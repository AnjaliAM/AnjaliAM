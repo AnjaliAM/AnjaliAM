{
  "cells": [
    {
      "cell_type": "markdown",
      "metadata": {
        "id": "view-in-github",
        "colab_type": "text"
      },
      "source": [
        "<a href=\"https://colab.research.google.com/github/AnjaliAM/AnjaliAM/blob/main/quiz_on_classes_and_objects.ipynb\" target=\"_parent\"><img src=\"https://colab.research.google.com/assets/colab-badge.svg\" alt=\"Open In Colab\"/></a>"
      ]
    },
    {
      "cell_type": "code",
      "execution_count": null,
      "metadata": {
        "colab": {
          "base_uri": "https://localhost:8080/"
        },
        "id": "tm9DZU4VQJMV",
        "outputId": "59bbb5a4-8832-4aac-817d-b73066da3391"
      },
      "outputs": [
        {
          "name": "stdout",
          "output_type": "stream",
          "text": [
            "The Zen of Python, by Tim Peters\n",
            "\n",
            "Beautiful is better than ugly.\n",
            "Explicit is better than implicit.\n",
            "Simple is better than complex.\n",
            "Complex is better than complicated.\n",
            "Flat is better than nested.\n",
            "Sparse is better than dense.\n",
            "Readability counts.\n",
            "Special cases aren't special enough to break the rules.\n",
            "Although practicality beats purity.\n",
            "Errors should never pass silently.\n",
            "Unless explicitly silenced.\n",
            "In the face of ambiguity, refuse the temptation to guess.\n",
            "There should be one-- and preferably only one --obvious way to do it.\n",
            "Although that way may not be obvious at first unless you're Dutch.\n",
            "Now is better than never.\n",
            "Although never is often better than *right* now.\n",
            "If the implementation is hard to explain, it's a bad idea.\n",
            "If the implementation is easy to explain, it may be a good idea.\n",
            "Namespaces are one honking great idea -- let's do more of those!\n"
          ]
        }
      ],
      "source": [
        "import this"
      ]
    },
    {
      "cell_type": "code",
      "execution_count": null,
      "metadata": {
        "colab": {
          "base_uri": "https://localhost:8080/",
          "height": 36
        },
        "id": "-6qrBAn9RRD2",
        "outputId": "bdc99831-4edd-408a-d3b0-7a902ee3d018"
      },
      "outputs": [
        {
          "data": {
            "application/vnd.google.colaboratory.intrinsic+json": {
              "type": "string"
            },
            "text/plain": [
              "'this is coding class'"
            ]
          },
          "execution_count": 3,
          "metadata": {},
          "output_type": "execute_result"
        }
      ],
      "source": [
        "\"this is coding class\""
      ]
    },
    {
      "cell_type": "code",
      "execution_count": null,
      "metadata": {
        "colab": {
          "base_uri": "https://localhost:8080/",
          "height": 36
        },
        "id": "2gLWXJ5ZR7rN",
        "outputId": "0bd63191-d1d4-4c79-e6c9-a896528083dc"
      },
      "outputs": [
        {
          "data": {
            "application/vnd.google.colaboratory.intrinsic+json": {
              "type": "string"
            },
            "text/plain": [
              "' my name is ?'"
            ]
          },
          "execution_count": 4,
          "metadata": {},
          "output_type": "execute_result"
        }
      ],
      "source": [
        "' my name is ?'"
      ]
    },
    {
      "cell_type": "code",
      "execution_count": null,
      "metadata": {
        "colab": {
          "base_uri": "https://localhost:8080/",
          "height": 36
        },
        "id": "JDClmuF6SI31",
        "outputId": "eb9d01c3-a1cc-4b9e-a4ad-82267db7481d"
      },
      "outputs": [
        {
          "data": {
            "application/vnd.google.colaboratory.intrinsic+json": {
              "type": "string"
            },
            "text/plain": [
              "'hjghbjfgnbbjfgb'"
            ]
          },
          "execution_count": 5,
          "metadata": {},
          "output_type": "execute_result"
        }
      ],
      "source": [
        "'''hjghbjfgnbbjfgb'''"
      ]
    },
    {
      "cell_type": "code",
      "execution_count": null,
      "metadata": {
        "id": "AJ56gum6SLvM"
      },
      "outputs": [],
      "source": [
        "a = 14"
      ]
    },
    {
      "cell_type": "code",
      "execution_count": null,
      "metadata": {
        "colab": {
          "base_uri": "https://localhost:8080/"
        },
        "id": "eAPNWjgUSUyQ",
        "outputId": "87b19900-714a-4166-bf00-900fb6715427"
      },
      "outputs": [
        {
          "data": {
            "text/plain": [
              "14"
            ]
          },
          "execution_count": 7,
          "metadata": {},
          "output_type": "execute_result"
        }
      ],
      "source": [
        "a"
      ]
    },
    {
      "cell_type": "code",
      "execution_count": null,
      "metadata": {
        "id": "kMOCCf0WSZvm"
      },
      "outputs": [],
      "source": [
        "b = 76"
      ]
    },
    {
      "cell_type": "code",
      "execution_count": null,
      "metadata": {
        "colab": {
          "base_uri": "https://localhost:8080/"
        },
        "id": "fcsYxppxSgST",
        "outputId": "5ee50c08-896e-4027-e085-2cf0c0b9f825"
      },
      "outputs": [
        {
          "data": {
            "text/plain": [
              "76"
            ]
          },
          "execution_count": 9,
          "metadata": {},
          "output_type": "execute_result"
        }
      ],
      "source": [
        "b"
      ]
    },
    {
      "cell_type": "code",
      "execution_count": null,
      "metadata": {
        "id": "445j8UBFSiL0"
      },
      "outputs": [],
      "source": [
        "c = a+b"
      ]
    },
    {
      "cell_type": "code",
      "execution_count": null,
      "metadata": {
        "colab": {
          "base_uri": "https://localhost:8080/"
        },
        "id": "pSQeVQSASnt4",
        "outputId": "7e2a3c20-7fa5-418e-bcd9-c0df6df3d67e"
      },
      "outputs": [
        {
          "data": {
            "text/plain": [
              "90"
            ]
          },
          "execution_count": 11,
          "metadata": {},
          "output_type": "execute_result"
        }
      ],
      "source": [
        "c"
      ]
    },
    {
      "cell_type": "code",
      "execution_count": null,
      "metadata": {
        "id": "4QX0bBKXSomD"
      },
      "outputs": [],
      "source": [
        "a= 765\n",
        "b= 56\n",
        "c = a *b"
      ]
    },
    {
      "cell_type": "code",
      "execution_count": null,
      "metadata": {
        "colab": {
          "base_uri": "https://localhost:8080/"
        },
        "id": "JE1xLig4Sw6C",
        "outputId": "5506fc4d-80e2-4377-a0d0-30e76ed20182"
      },
      "outputs": [
        {
          "data": {
            "text/plain": [
              "42840"
            ]
          },
          "execution_count": 13,
          "metadata": {},
          "output_type": "execute_result"
        }
      ],
      "source": [
        "c"
      ]
    },
    {
      "cell_type": "code",
      "execution_count": null,
      "metadata": {
        "id": "Q9g7dCLfSy0F"
      },
      "outputs": [],
      "source": [
        "v= 5645\n",
        "q =43\n",
        "c = v/ q"
      ]
    },
    {
      "cell_type": "code",
      "execution_count": null,
      "metadata": {
        "colab": {
          "base_uri": "https://localhost:8080/"
        },
        "id": "UeT7-VvGTBfy",
        "outputId": "19397d31-5ce2-42c0-bf92-a84620c04089"
      },
      "outputs": [
        {
          "data": {
            "text/plain": [
              "131.27906976744185"
            ]
          },
          "execution_count": 15,
          "metadata": {},
          "output_type": "execute_result"
        }
      ],
      "source": [
        "c"
      ]
    },
    {
      "cell_type": "code",
      "execution_count": null,
      "metadata": {
        "id": "SGwZP_MQTCUb"
      },
      "outputs": [],
      "source": [
        "integr 434,6,34,34,5555555\n",
        "\n",
        "string \"thjtihjththy\"\n",
        "\n",
        "float 76.4,76.4"
      ]
    },
    {
      "cell_type": "code",
      "execution_count": null,
      "metadata": {
        "id": "zX2aDU1NTlwF"
      },
      "outputs": [],
      "source": [
        "a= 56"
      ]
    },
    {
      "cell_type": "code",
      "execution_count": null,
      "metadata": {
        "colab": {
          "base_uri": "https://localhost:8080/"
        },
        "id": "5wHDqKlXTmEh",
        "outputId": "1c6d77db-5fe0-45d6-f0a4-14802e1dacd5"
      },
      "outputs": [
        {
          "data": {
            "text/plain": [
              "int"
            ]
          },
          "execution_count": 16,
          "metadata": {},
          "output_type": "execute_result"
        }
      ],
      "source": [
        "type(a)"
      ]
    },
    {
      "cell_type": "code",
      "execution_count": null,
      "metadata": {
        "id": "Hl1e93wpTmUN"
      },
      "outputs": [],
      "source": [
        "b = \" how are you\""
      ]
    },
    {
      "cell_type": "code",
      "execution_count": null,
      "metadata": {
        "colab": {
          "base_uri": "https://localhost:8080/"
        },
        "id": "4Wq1AnylTmg2",
        "outputId": "32f80a73-56f8-4b3f-9bd0-beb593e83d12"
      },
      "outputs": [
        {
          "data": {
            "text/plain": [
              "int"
            ]
          },
          "execution_count": 17,
          "metadata": {},
          "output_type": "execute_result"
        }
      ],
      "source": [
        "type(b)"
      ]
    },
    {
      "cell_type": "code",
      "execution_count": null,
      "metadata": {
        "id": "8SQ-EZM1UNHS"
      },
      "outputs": [],
      "source": [
        "f = str(a)"
      ]
    },
    {
      "cell_type": "code",
      "execution_count": null,
      "metadata": {
        "colab": {
          "base_uri": "https://localhost:8080/",
          "height": 36
        },
        "id": "yjpgZgPlUaKw",
        "outputId": "967a4c34-6dce-4d22-8139-95608f20679d"
      },
      "outputs": [
        {
          "data": {
            "application/vnd.google.colaboratory.intrinsic+json": {
              "type": "string"
            },
            "text/plain": [
              "' Anjali  Malik'"
            ]
          },
          "execution_count": 21,
          "metadata": {},
          "output_type": "execute_result"
        }
      ],
      "source": [
        "a =\" Anjali\"\n",
        "\n",
        "b= \"  Malik\"\n",
        "a+b"
      ]
    },
    {
      "cell_type": "code",
      "execution_count": null,
      "metadata": {
        "colab": {
          "base_uri": "https://localhost:8080/",
          "height": 36
        },
        "id": "3i8zwGVZVXNN",
        "outputId": "891413cf-d8f8-4d46-8537-3083a6d96718"
      },
      "outputs": [
        {
          "data": {
            "application/vnd.google.colaboratory.intrinsic+json": {
              "type": "string"
            },
            "text/plain": [
              "'class well done'"
            ]
          },
          "execution_count": 22,
          "metadata": {},
          "output_type": "execute_result"
        }
      ],
      "source": [
        "A = \"class\"\n",
        "b= \" well\"\n",
        "c = \" done\"\n",
        "A +b +c"
      ]
    },
    {
      "cell_type": "code",
      "execution_count": null,
      "metadata": {
        "colab": {
          "background_save": true
        },
        "id": "WBgTHiRNVx25"
      },
      "outputs": [],
      "source": [
        "[]"
      ]
    },
    {
      "cell_type": "code",
      "source": [
        "1. _____ represents an entity in the real world with its identity and behaviour.\n",
        "a) A method\n",
        "b) An object\n",
        "c) A class\n",
        "d) An operator"
      ],
      "metadata": {
        "id": "0MKwRqXkDowb"
      },
      "execution_count": null,
      "outputs": []
    },
    {
      "cell_type": "code",
      "source": [
        "2. _____ is used to create an object.\n",
        "a) class\n",
        "b) constructor\n",
        "c) User-defined functions\n",
        "d) In-built functions"
      ],
      "metadata": {
        "id": "AMHQkiZ5D2uo"
      },
      "execution_count": null,
      "outputs": []
    },
    {
      "cell_type": "code",
      "source": [
        "#3. What will be the output of the following Python code?\n",
        "\n",
        "class test:\n",
        "     def __init__(self,a=\"Hello World\"):\n",
        "         self.a=a\n",
        " \n",
        "     def display(self):\n",
        "         print(self.a)\n",
        "obj=test()\n",
        "obj.display()\n"
      ],
      "metadata": {
        "id": "DBaNvL6YD2xo"
      },
      "execution_count": null,
      "outputs": []
    },
    {
      "cell_type": "code",
      "source": [
        "a) The program has an error because constructor can’t have default arguments\n",
        "b) Nothing is displayed\n",
        "c) “Hello World” is displayed\n",
        "d) The program has an error display function doesn’t have parameters"
      ],
      "metadata": {
        "id": "FkBRaZIJD20c"
      },
      "execution_count": null,
      "outputs": []
    },
    {
      "cell_type": "code",
      "source": [
        "#4.  What will be the output of the following Python code?\n",
        "class change:\n",
        "    def __init__(self, x, y,z):\n",
        "        self.a = x + y + z\n",
        " \n",
        "x = change(1,2,3)\n",
        "y = getattr(x, 'a')\n",
        "setattr(x, 'a', y+1)\n",
        "print(x.a)\n",
        " "
      ],
      "metadata": {
        "colab": {
          "base_uri": "https://localhost:8080/"
        },
        "id": "zTrQVXk-E1kW",
        "outputId": "10e22d60-e961-461a-8b91-55780460bd53"
      },
      "execution_count": null,
      "outputs": [
        {
          "output_type": "stream",
          "name": "stdout",
          "text": [
            "7\n"
          ]
        }
      ]
    },
    {
      "cell_type": "code",
      "source": [
        "a) 6\n",
        "b) 4\n",
        "c) Error\n",
        "d) 0"
      ],
      "metadata": {
        "id": "OqhNoGJ3E1y0"
      },
      "execution_count": null,
      "outputs": []
    },
    {
      "cell_type": "code",
      "source": [
        "5. What is setattr() used for?\n",
        "a) To access the attribute of the object\n",
        "b) To set an attribute\n",
        "c) To check if an attribute exists or not\n",
        "d) To delete an attribute"
      ],
      "metadata": {
        "id": "zC2SqQ95E11l"
      },
      "execution_count": null,
      "outputs": []
    },
    {
      "cell_type": "code",
      "source": [
        "6. What is getattr() used for?\n",
        "a) To access the attribute of the object\n",
        "b) To delete an attribute\n",
        "c) To check if an attribute exists or not\n",
        "d) To set an attribute"
      ],
      "metadata": {
        "id": "vEs-UivoE14t"
      },
      "execution_count": null,
      "outputs": []
    },
    {
      "cell_type": "code",
      "source": [
        "#7 What will be the output of the following Python code?\n",
        "class test:\n",
        "     def __init__(self,a):\n",
        "         self.a=a\n",
        " \n",
        "     def display(self):\n",
        "         print(self.a)\n",
        "obj=test()\n",
        "obj.display()"
      ],
      "metadata": {
        "id": "_wCYTbLpFoDU"
      },
      "execution_count": null,
      "outputs": []
    },
    {
      "cell_type": "code",
      "source": [
        "a) Runs normally, doesn’t display anything\n",
        "b) Displays 0, which is the automatic default value\n",
        "c) Error as one argument is required while creating the object\n",
        "d) Error as display function requires additional argument"
      ],
      "metadata": {
        "id": "OQImX4SVFvJJ"
      },
      "execution_count": null,
      "outputs": []
    },
    {
      "cell_type": "code",
      "source": [
        "#8 What will be the output of the following Python code?\n",
        "class A:\n",
        "\tdef __init__(self,b):\n",
        "\t\tself.b=b\n",
        "\tdef display(self):\n",
        "\t\tprint(self.b)\n",
        ">>> obj=A(\"Hello\")\n",
        ">>> del obj"
      ],
      "metadata": {
        "id": "NnvyUCRuFvMa"
      },
      "execution_count": null,
      "outputs": []
    },
    {
      "cell_type": "code",
      "source": [
        "#9. What will be the output of the following Python code?\n",
        "class test:\n",
        "    def __init__(self):\n",
        "        self.variable = 'Old'\n",
        "        self.Change(self.variable)\n",
        "    def Change(self, var):\n",
        "        var = 'New'\n",
        "obj=test()\n",
        "print(obj.variable)"
      ],
      "metadata": {
        "id": "lph-4qg6FvPL"
      },
      "execution_count": null,
      "outputs": []
    },
    {
      "cell_type": "code",
      "source": [
        "a) Error because function change can’t be called in the __init__ function\n",
        "b) ‘New’ is printed\n",
        "c) ‘Old’ is printed\n",
        "d) Nothing is printed"
      ],
      "metadata": {
        "id": "LKR5Bcw7FoGQ"
      },
      "execution_count": null,
      "outputs": []
    },
    {
      "cell_type": "code",
      "source": [
        "10. What is Instantiation in terms of OOP terminology?\n",
        "a) Deleting an instance of class\n",
        "b) Modifying an instance of class\n",
        "c) Copying an instance of class\n",
        "d) Creating an instance of class"
      ],
      "metadata": {
        "id": "Q6mW1LrMF_9I"
      },
      "execution_count": null,
      "outputs": []
    },
    {
      "cell_type": "code",
      "source": [
        "#11 What will be the output of the following Python code?\n",
        "class fruits:\n",
        "    def __init__(self, price):\n",
        "        self.price = price\n",
        "        \n",
        "obj=fruits(50)\n",
        " \n",
        "obj.quantity=10\n",
        "obj.bags=2\n",
        " \n",
        "print(obj.quantity+len(obj.__dict__))"
      ],
      "metadata": {
        "colab": {
          "base_uri": "https://localhost:8080/"
        },
        "id": "_s_qXsGSGAC5",
        "outputId": "7bad5f67-60e2-4891-cbf2-48a179b8f87d"
      },
      "execution_count": null,
      "outputs": [
        {
          "output_type": "stream",
          "name": "stdout",
          "text": [
            "13\n"
          ]
        }
      ]
    },
    {
      "cell_type": "code",
      "source": [
        "a) 12\n",
        "b) 52\n",
        "c) 13\n",
        "d) 60"
      ],
      "metadata": {
        "id": "gdyMcHqoGAFm"
      },
      "execution_count": null,
      "outputs": []
    },
    {
      "cell_type": "code",
      "source": [
        "#12 What will be the output of the following Python code?\n",
        "class Demo:\n",
        "    def __init__(self):\n",
        "        pass\n",
        " \n",
        "    def test(self):\n",
        "        print(__name__)\n",
        " \n",
        "obj = Demo()\n",
        "obj.test()"
      ],
      "metadata": {
        "id": "8uXY7NkbGOPH"
      },
      "execution_count": null,
      "outputs": []
    },
    {
      "cell_type": "code",
      "source": [
        "a) Exception is thrown\n",
        "b) __main__\n",
        "c) Demo\n",
        "d) test"
      ],
      "metadata": {
        "id": "0SesLWgrGOR-"
      },
      "execution_count": null,
      "outputs": []
    },
    {
      "cell_type": "code",
      "source": [],
      "metadata": {
        "id": "0etUWp2kGOVA"
      },
      "execution_count": null,
      "outputs": []
    }
  ],
  "metadata": {
    "colab": {
      "provenance": [],
      "authorship_tag": "ABX9TyMzpkRajWjHz7CvPPug+umr",
      "include_colab_link": true
    },
    "kernelspec": {
      "display_name": "Python 3",
      "name": "python3"
    },
    "language_info": {
      "name": "python"
    }
  },
  "nbformat": 4,
  "nbformat_minor": 0
}